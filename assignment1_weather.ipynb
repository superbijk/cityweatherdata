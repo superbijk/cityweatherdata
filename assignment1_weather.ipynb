{
  "nbformat": 4,
  "nbformat_minor": 0,
  "metadata": {
    "colab": {
      "name": "assignment1-weather.ipynb",
      "provenance": [],
      "collapsed_sections": [],
      "authorship_tag": "ABX9TyOK9g7XrulPfevtc1Hm2otU",
      "include_colab_link": true
    },
    "kernelspec": {
      "name": "python3",
      "display_name": "Python 3"
    }
  },
  "cells": [
    {
      "cell_type": "markdown",
      "metadata": {
        "id": "view-in-github",
        "colab_type": "text"
      },
      "source": [
        "<a href=\"https://colab.research.google.com/github/superbijk/cityweatherdata/blob/master/assignment1_weather.ipynb\" target=\"_parent\"><img src=\"https://colab.research.google.com/assets/colab-badge.svg\" alt=\"Open In Colab\"/></a>"
      ]
    },
    {
      "cell_type": "code",
      "metadata": {
        "id": "fRJe7mvhUivQ",
        "colab_type": "code",
        "colab": {
          "base_uri": "https://localhost:8080/",
          "height": 142
        },
        "outputId": "874d120f-d698-4b27-d620-ac48178c8fc0"
      },
      "source": [
        "#import numpy library\n",
        "import numpy as np\n",
        "import pandas as pd\n",
        "\n",
        "#import np dataset from github\n",
        "url = 'https://raw.githubusercontent.com/superbijk/cityweatherdata/master/cityweatherdata.csv'\n",
        "df = pd.read_csv(url)\n",
        "\n",
        "#preview data frame\n",
        "df.head(3)"
      ],
      "execution_count": 83,
      "outputs": [
        {
          "output_type": "execute_result",
          "data": {
            "text/html": [
              "<div>\n",
              "<style scoped>\n",
              "    .dataframe tbody tr th:only-of-type {\n",
              "        vertical-align: middle;\n",
              "    }\n",
              "\n",
              "    .dataframe tbody tr th {\n",
              "        vertical-align: top;\n",
              "    }\n",
              "\n",
              "    .dataframe thead th {\n",
              "        text-align: right;\n",
              "    }\n",
              "</style>\n",
              "<table border=\"1\" class=\"dataframe\">\n",
              "  <thead>\n",
              "    <tr style=\"text-align: right;\">\n",
              "      <th></th>\n",
              "      <th>m1</th>\n",
              "      <th>m2</th>\n",
              "      <th>m3</th>\n",
              "      <th>m4</th>\n",
              "      <th>m5</th>\n",
              "      <th>m6</th>\n",
              "      <th>m7</th>\n",
              "      <th>m8</th>\n",
              "      <th>m9</th>\n",
              "      <th>m10</th>\n",
              "      <th>m11</th>\n",
              "      <th>m12</th>\n",
              "    </tr>\n",
              "  </thead>\n",
              "  <tbody>\n",
              "    <tr>\n",
              "      <th>0</th>\n",
              "      <td>-2</td>\n",
              "      <td>-2</td>\n",
              "      <td>2</td>\n",
              "      <td>8</td>\n",
              "      <td>14</td>\n",
              "      <td>19</td>\n",
              "      <td>21</td>\n",
              "      <td>20</td>\n",
              "      <td>16</td>\n",
              "      <td>10</td>\n",
              "      <td>4</td>\n",
              "      <td>1</td>\n",
              "    </tr>\n",
              "    <tr>\n",
              "      <th>1</th>\n",
              "      <td>20</td>\n",
              "      <td>20</td>\n",
              "      <td>22</td>\n",
              "      <td>23</td>\n",
              "      <td>26</td>\n",
              "      <td>27</td>\n",
              "      <td>28</td>\n",
              "      <td>28</td>\n",
              "      <td>27</td>\n",
              "      <td>26</td>\n",
              "      <td>23</td>\n",
              "      <td>20</td>\n",
              "    </tr>\n",
              "    <tr>\n",
              "      <th>2</th>\n",
              "      <td>-1</td>\n",
              "      <td>1</td>\n",
              "      <td>6</td>\n",
              "      <td>13</td>\n",
              "      <td>18</td>\n",
              "      <td>23</td>\n",
              "      <td>26</td>\n",
              "      <td>25</td>\n",
              "      <td>21</td>\n",
              "      <td>15</td>\n",
              "      <td>7</td>\n",
              "      <td>1</td>\n",
              "    </tr>\n",
              "  </tbody>\n",
              "</table>\n",
              "</div>"
            ],
            "text/plain": [
              "   m1  m2  m3  m4  m5  m6  m7  m8  m9  m10  m11  m12\n",
              "0  -2  -2   2   8  14  19  21  20  16   10    4    1\n",
              "1  20  20  22  23  26  27  28  28  27   26   23   20\n",
              "2  -1   1   6  13  18  23  26  25  21   15    7    1"
            ]
          },
          "metadata": {
            "tags": []
          },
          "execution_count": 83
        }
      ]
    },
    {
      "cell_type": "code",
      "metadata": {
        "id": "vgnacexljlwh",
        "colab_type": "code",
        "colab": {
          "base_uri": "https://localhost:8080/",
          "height": 187
        },
        "outputId": "db59cbfc-f2be-430e-8d86-705678c1338a"
      },
      "source": [
        "#convert to numpy\n",
        "x = df.to_numpy()\n",
        "print(x)"
      ],
      "execution_count": 84,
      "outputs": [
        {
          "output_type": "stream",
          "text": [
            "[[-2 -2  2  8 14 19 21 20 16 10  4  1]\n",
            " [20 20 22 23 26 27 28 28 27 26 23 20]\n",
            " [-1  1  6 13 18 23 26 25 21 15  7  1]\n",
            " [11 13 16 20 23 27 27 27 26 21 16 12]\n",
            " [-8 -5  0  7 14 19 22 20 16 10  2 -5]\n",
            " [10 12 16 20 23 27 28 28 26 21 16 12]\n",
            " [12 14 16 21 26 31 33 32 30 23 16 12]\n",
            " [ 5  6  7 10 13 16 18 18 16 12  8  6]\n",
            " [10 12 12 13 14 15 15 16 17 16 14 11]\n",
            " [13 14 15 16 17 19 21 22 21 19 16 14]]\n"
          ],
          "name": "stdout"
        }
      ]
    },
    {
      "cell_type": "code",
      "metadata": {
        "id": "oZvggMyUUxnD",
        "colab_type": "code",
        "colab": {
          "base_uri": "https://localhost:8080/",
          "height": 187
        },
        "outputId": "d3715589-d56c-44e0-bbce-69b77d114364"
      },
      "source": [
        "#problem 1: find an average temp for each city\n",
        "avgcities = np.round(x.sum(axis=1) / 12,1)\n",
        "\n",
        "for i, avgcity in enumerate(avgcities):\n",
        "  print('Number {} city\\'s average temperature is {}'.format(i+1, avgcity))"
      ],
      "execution_count": 108,
      "outputs": [
        {
          "output_type": "stream",
          "text": [
            "Number 1 city's average temperature is 9.2\n",
            "Number 2 city's average temperature is 24.2\n",
            "Number 3 city's average temperature is 12.9\n",
            "Number 4 city's average temperature is 19.9\n",
            "Number 5 city's average temperature is 7.7\n",
            "Number 6 city's average temperature is 19.9\n",
            "Number 7 city's average temperature is 22.2\n",
            "Number 8 city's average temperature is 11.2\n",
            "Number 9 city's average temperature is 13.8\n",
            "Number 10 city's average temperature is 17.2\n"
          ],
          "name": "stdout"
        }
      ]
    },
    {
      "cell_type": "code",
      "metadata": {
        "id": "y_lUvM-4WZCl",
        "colab_type": "code",
        "colab": {
          "base_uri": "https://localhost:8080/",
          "height": 357
        },
        "outputId": "3d3233a5-6ce1-4a2c-a72a-602de1449518"
      },
      "source": [
        "#problem 2: find an average, minimum, maximum temp for each season\n",
        "seasons_dict = {'Winter': [0,1,2], 'Spring': [3,4,5], 'Summer': [6,7,8], 'Authumn' : [9,10,11]}\n",
        "\n",
        "for season, months in seasons_dict.items():\n",
        "  season_avg = np.round(x[:,months].sum() / (len(months)*x.shape[0]), 1)\n",
        "  print('{} average temperature is {}'.format(season, season_avg))\n",
        "  print('{} minimum temperature is {}'.format(season, x[:,months].min()))\n",
        "  print('{} maximum temperature is {}'.format(season, x[:,months].max()))\n",
        "  print('\\n')\n",
        "\n"
      ],
      "execution_count": 130,
      "outputs": [
        {
          "output_type": "stream",
          "text": [
            "Winter average temperature is 8.9\n",
            "Winter minimum temperature is -8\n",
            "Winter maximum temperature is 22\n",
            "\n",
            "\n",
            "Spring average temperature is 18.7\n",
            "Spring minimum temperature is 7\n",
            "Spring maximum temperature is 31\n",
            "\n",
            "\n",
            "Summer average temperature is 23.0\n",
            "Summer minimum temperature is 15\n",
            "Summer maximum temperature is 33\n",
            "\n",
            "\n",
            "Authumn average temperature is 12.6\n",
            "Authumn minimum temperature is -5\n",
            "Authumn maximum temperature is 26\n",
            "\n",
            "\n"
          ],
          "name": "stdout"
        }
      ]
    }
  ]
}